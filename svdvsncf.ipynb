{
  "cells": [
    {
      "cell_type": "markdown",
      "metadata": {
        "id": "view-in-github",
        "colab_type": "text"
      },
      "source": [
        "<a href=\"https://colab.research.google.com/github/Kitwradr/Project-Automatic-playlist-continuation/blob/main/svdvsncf.ipynb\" target=\"_parent\"><img src=\"https://colab.research.google.com/assets/colab-badge.svg\" alt=\"Open In Colab\"/></a>"
      ]
    },
    {
      "cell_type": "markdown",
      "source": [
        "# SVD vs. Neural Collaborative Filtering for Automatic Playlist Continuation "
      ],
      "metadata": {
        "id": "r3qHm7I33xOW"
      }
    },
    {
      "cell_type": "markdown",
      "metadata": {
        "id": "2OWmWccz2yd-"
      },
      "source": [
        "## Imports"
      ]
    },
    {
      "cell_type": "code",
      "execution_count": null,
      "metadata": {
        "colab": {
          "base_uri": "https://localhost:8080/"
        },
        "id": "2HSCXN1MEWP7",
        "outputId": "dc3b4f7a-a9b1-450f-8e37-48a34413b3af"
      },
      "outputs": [
        {
          "name": "stdout",
          "output_type": "stream",
          "text": [
            "Looking in indexes: https://pypi.org/simple, https://us-python.pkg.dev/colab-wheels/public/simple/\n",
            "Collecting surprise\n",
            "  Downloading surprise-0.1-py2.py3-none-any.whl (1.8 kB)\n",
            "Collecting scikit-surprise\n",
            "  Downloading scikit-surprise-1.1.3.tar.gz (771 kB)\n",
            "\u001b[K     |████████████████████████████████| 771 kB 5.2 MB/s \n",
            "\u001b[?25hRequirement already satisfied: joblib>=1.0.0 in /usr/local/lib/python3.8/dist-packages (from scikit-surprise->surprise) (1.2.0)\n",
            "Requirement already satisfied: numpy>=1.17.3 in /usr/local/lib/python3.8/dist-packages (from scikit-surprise->surprise) (1.21.6)\n",
            "Requirement already satisfied: scipy>=1.3.2 in /usr/local/lib/python3.8/dist-packages (from scikit-surprise->surprise) (1.7.3)\n",
            "Building wheels for collected packages: scikit-surprise\n",
            "  Building wheel for scikit-surprise (setup.py) ... \u001b[?25l\u001b[?25hdone\n",
            "  Created wheel for scikit-surprise: filename=scikit_surprise-1.1.3-cp38-cp38-linux_x86_64.whl size=2626473 sha256=04467e45dd3d152faab5db8cb48af47fd69adf4bbb219a2ea8756965860cce76\n",
            "  Stored in directory: /root/.cache/pip/wheels/af/db/86/2c18183a80ba05da35bf0fb7417aac5cddbd93bcb1b92fd3ea\n",
            "Successfully built scikit-surprise\n",
            "Installing collected packages: scikit-surprise, surprise\n",
            "Successfully installed scikit-surprise-1.1.3 surprise-0.1\n"
          ]
        }
      ],
      "source": [
        "!pip install surprise"
      ]
    },
    {
      "cell_type": "code",
      "execution_count": null,
      "metadata": {
        "id": "uwh9Agt42mgE"
      },
      "outputs": [],
      "source": [
        "import tensorflow\n",
        "import pandas as pd\n",
        "import numpy as np\n",
        "import json\n",
        "import seaborn as sns\n",
        "import matplotlib.pyplot as plt\n",
        "\n",
        "import heapq\n",
        "import math\n",
        "from collections import defaultdict\n",
        "from tqdm import tqdm\n",
        "import random\n",
        "\n",
        "from sklearn.model_selection import train_test_split\n",
        "\n",
        "from surprise import SVD, Reader, Dataset, SVDpp\n",
        "\n",
        "from tensorflow.keras.layers import Embedding, Input, Dense, Flatten, Concatenate, Dropout, Dot\n",
        "from tensorflow.keras.optimizers import SGD, Adam\n",
        "from tensorflow.keras.models import Model\n",
        "from tensorflow.keras.initializers import GlorotNormal, LecunUniform\n",
        "from tensorflow.keras.regularizers import L2\n",
        "from tensorflow.keras.losses import BinaryCrossentropy\n",
        "from keras.utils import plot_model"
      ]
    },
    {
      "cell_type": "markdown",
      "metadata": {
        "id": "4cdcBkIk249C"
      },
      "source": [
        "## Fetch Processed Data"
      ]
    },
    {
      "cell_type": "markdown",
      "source": [
        "**If you are running the following cells, please make sure the paths to the data files are correct.**"
      ],
      "metadata": {
        "id": "s0_kScrj3YdZ"
      }
    },
    {
      "cell_type": "code",
      "execution_count": null,
      "metadata": {
        "id": "NgF_gKLx24PP"
      },
      "outputs": [],
      "source": [
        "train_wnegatives=pd.read_csv('/content/drive/MyDrive/dsc210/project/train_with_negative.csv')\n",
        "# fetch the positive samples to build necessary data structures later\n",
        "train_positives=train_wnegatives[train_wnegatives.label==1][['pid','tid']].reset_index(drop=True)"
      ]
    },
    {
      "cell_type": "code",
      "execution_count": null,
      "metadata": {
        "id": "ZEb-9Cm66v8A"
      },
      "outputs": [],
      "source": [
        "# preprocessing the columns\n",
        "train_wnegatives['album_share']=train_wnegatives['album-artist share'].apply(lambda x:float(x.strip('[]').split(', ')[0]))\n",
        "train_wnegatives['artist_share']=train_wnegatives['album-artist share'].apply(lambda x:float(x.strip('[]').split(', ')[1]))"
      ]
    },
    {
      "cell_type": "code",
      "execution_count": null,
      "metadata": {
        "colab": {
          "base_uri": "https://localhost:8080/",
          "height": 204
        },
        "id": "JYLE6iclBZ8v",
        "outputId": "9da0a3b2-a037-4e43-ecbf-3fe7381c45c6"
      },
      "outputs": [
        {
          "data": {
            "text/html": [
              "\n",
              "  <div id=\"df-f4717e36-cd0c-4ec7-900e-f10545b85bb0\">\n",
              "    <div class=\"colab-df-container\">\n",
              "      <div>\n",
              "<style scoped>\n",
              "    .dataframe tbody tr th:only-of-type {\n",
              "        vertical-align: middle;\n",
              "    }\n",
              "\n",
              "    .dataframe tbody tr th {\n",
              "        vertical-align: top;\n",
              "    }\n",
              "\n",
              "    .dataframe thead th {\n",
              "        text-align: right;\n",
              "    }\n",
              "</style>\n",
              "<table border=\"1\" class=\"dataframe\">\n",
              "  <thead>\n",
              "    <tr style=\"text-align: right;\">\n",
              "      <th></th>\n",
              "      <th>pid</th>\n",
              "      <th>tid</th>\n",
              "      <th>label</th>\n",
              "      <th>album-artist share</th>\n",
              "      <th>album_share</th>\n",
              "      <th>artist_share</th>\n",
              "    </tr>\n",
              "  </thead>\n",
              "  <tbody>\n",
              "    <tr>\n",
              "      <th>0</th>\n",
              "      <td>19647</td>\n",
              "      <td>11777</td>\n",
              "      <td>1</td>\n",
              "      <td>[0.03333333333333333, 0.09444444444444444]</td>\n",
              "      <td>0.033333</td>\n",
              "      <td>0.094444</td>\n",
              "    </tr>\n",
              "    <tr>\n",
              "      <th>1</th>\n",
              "      <td>19647</td>\n",
              "      <td>203958</td>\n",
              "      <td>0</td>\n",
              "      <td>[0.0, 0.0]</td>\n",
              "      <td>0.000000</td>\n",
              "      <td>0.000000</td>\n",
              "    </tr>\n",
              "    <tr>\n",
              "      <th>2</th>\n",
              "      <td>18906</td>\n",
              "      <td>5713</td>\n",
              "      <td>1</td>\n",
              "      <td>[0.1267605633802817, 0.1267605633802817]</td>\n",
              "      <td>0.126761</td>\n",
              "      <td>0.126761</td>\n",
              "    </tr>\n",
              "    <tr>\n",
              "      <th>3</th>\n",
              "      <td>18906</td>\n",
              "      <td>2287</td>\n",
              "      <td>0</td>\n",
              "      <td>[0.0, 0.0]</td>\n",
              "      <td>0.000000</td>\n",
              "      <td>0.000000</td>\n",
              "    </tr>\n",
              "    <tr>\n",
              "      <th>4</th>\n",
              "      <td>18980</td>\n",
              "      <td>39</td>\n",
              "      <td>1</td>\n",
              "      <td>[0.007407407407407408, 0.014814814814814815]</td>\n",
              "      <td>0.007407</td>\n",
              "      <td>0.014815</td>\n",
              "    </tr>\n",
              "  </tbody>\n",
              "</table>\n",
              "</div>\n",
              "      <button class=\"colab-df-convert\" onclick=\"convertToInteractive('df-f4717e36-cd0c-4ec7-900e-f10545b85bb0')\"\n",
              "              title=\"Convert this dataframe to an interactive table.\"\n",
              "              style=\"display:none;\">\n",
              "        \n",
              "  <svg xmlns=\"http://www.w3.org/2000/svg\" height=\"24px\"viewBox=\"0 0 24 24\"\n",
              "       width=\"24px\">\n",
              "    <path d=\"M0 0h24v24H0V0z\" fill=\"none\"/>\n",
              "    <path d=\"M18.56 5.44l.94 2.06.94-2.06 2.06-.94-2.06-.94-.94-2.06-.94 2.06-2.06.94zm-11 1L8.5 8.5l.94-2.06 2.06-.94-2.06-.94L8.5 2.5l-.94 2.06-2.06.94zm10 10l.94 2.06.94-2.06 2.06-.94-2.06-.94-.94-2.06-.94 2.06-2.06.94z\"/><path d=\"M17.41 7.96l-1.37-1.37c-.4-.4-.92-.59-1.43-.59-.52 0-1.04.2-1.43.59L10.3 9.45l-7.72 7.72c-.78.78-.78 2.05 0 2.83L4 21.41c.39.39.9.59 1.41.59.51 0 1.02-.2 1.41-.59l7.78-7.78 2.81-2.81c.8-.78.8-2.07 0-2.86zM5.41 20L4 18.59l7.72-7.72 1.47 1.35L5.41 20z\"/>\n",
              "  </svg>\n",
              "      </button>\n",
              "      \n",
              "  <style>\n",
              "    .colab-df-container {\n",
              "      display:flex;\n",
              "      flex-wrap:wrap;\n",
              "      gap: 12px;\n",
              "    }\n",
              "\n",
              "    .colab-df-convert {\n",
              "      background-color: #E8F0FE;\n",
              "      border: none;\n",
              "      border-radius: 50%;\n",
              "      cursor: pointer;\n",
              "      display: none;\n",
              "      fill: #1967D2;\n",
              "      height: 32px;\n",
              "      padding: 0 0 0 0;\n",
              "      width: 32px;\n",
              "    }\n",
              "\n",
              "    .colab-df-convert:hover {\n",
              "      background-color: #E2EBFA;\n",
              "      box-shadow: 0px 1px 2px rgba(60, 64, 67, 0.3), 0px 1px 3px 1px rgba(60, 64, 67, 0.15);\n",
              "      fill: #174EA6;\n",
              "    }\n",
              "\n",
              "    [theme=dark] .colab-df-convert {\n",
              "      background-color: #3B4455;\n",
              "      fill: #D2E3FC;\n",
              "    }\n",
              "\n",
              "    [theme=dark] .colab-df-convert:hover {\n",
              "      background-color: #434B5C;\n",
              "      box-shadow: 0px 1px 3px 1px rgba(0, 0, 0, 0.15);\n",
              "      filter: drop-shadow(0px 1px 2px rgba(0, 0, 0, 0.3));\n",
              "      fill: #FFFFFF;\n",
              "    }\n",
              "  </style>\n",
              "\n",
              "      <script>\n",
              "        const buttonEl =\n",
              "          document.querySelector('#df-f4717e36-cd0c-4ec7-900e-f10545b85bb0 button.colab-df-convert');\n",
              "        buttonEl.style.display =\n",
              "          google.colab.kernel.accessAllowed ? 'block' : 'none';\n",
              "\n",
              "        async function convertToInteractive(key) {\n",
              "          const element = document.querySelector('#df-f4717e36-cd0c-4ec7-900e-f10545b85bb0');\n",
              "          const dataTable =\n",
              "            await google.colab.kernel.invokeFunction('convertToInteractive',\n",
              "                                                     [key], {});\n",
              "          if (!dataTable) return;\n",
              "\n",
              "          const docLinkHtml = 'Like what you see? Visit the ' +\n",
              "            '<a target=\"_blank\" href=https://colab.research.google.com/notebooks/data_table.ipynb>data table notebook</a>'\n",
              "            + ' to learn more about interactive tables.';\n",
              "          element.innerHTML = '';\n",
              "          dataTable['output_type'] = 'display_data';\n",
              "          await google.colab.output.renderOutput(dataTable, element);\n",
              "          const docLink = document.createElement('div');\n",
              "          docLink.innerHTML = docLinkHtml;\n",
              "          element.appendChild(docLink);\n",
              "        }\n",
              "      </script>\n",
              "    </div>\n",
              "  </div>\n",
              "  "
            ],
            "text/plain": [
              "     pid     tid  label                            album-artist share  \\\n",
              "0  19647   11777      1    [0.03333333333333333, 0.09444444444444444]   \n",
              "1  19647  203958      0                                    [0.0, 0.0]   \n",
              "2  18906    5713      1      [0.1267605633802817, 0.1267605633802817]   \n",
              "3  18906    2287      0                                    [0.0, 0.0]   \n",
              "4  18980      39      1  [0.007407407407407408, 0.014814814814814815]   \n",
              "\n",
              "   album_share  artist_share  \n",
              "0     0.033333      0.094444  \n",
              "1     0.000000      0.000000  \n",
              "2     0.126761      0.126761  \n",
              "3     0.000000      0.000000  \n",
              "4     0.007407      0.014815  "
            ]
          },
          "execution_count": 6,
          "metadata": {},
          "output_type": "execute_result"
        }
      ],
      "source": [
        "train_wnegatives.head(5)"
      ]
    },
    {
      "cell_type": "markdown",
      "metadata": {
        "id": "kHtrjLN3DX60"
      },
      "source": [
        "Validation and Test sets"
      ]
    },
    {
      "cell_type": "code",
      "execution_count": null,
      "metadata": {
        "id": "-MfVbzUA2xXr"
      },
      "outputs": [],
      "source": [
        "valid_wnegatives=pd.read_csv('/content/drive/MyDrive/dsc210/project/valid_negatives.csv')\n",
        "test_wnegatives=pd.read_csv('/content/drive/MyDrive/dsc210/project/test_negatives.csv')"
      ]
    },
    {
      "cell_type": "code",
      "execution_count": null,
      "metadata": {
        "colab": {
          "base_uri": "https://localhost:8080/",
          "height": 204
        },
        "id": "gosbQi6aCUO4",
        "outputId": "85225d85-5b3b-4d06-ade9-dbbe49595d68"
      },
      "outputs": [
        {
          "data": {
            "text/html": [
              "\n",
              "  <div id=\"df-1332ecde-ac07-4577-889e-9560e7662417\">\n",
              "    <div class=\"colab-df-container\">\n",
              "      <div>\n",
              "<style scoped>\n",
              "    .dataframe tbody tr th:only-of-type {\n",
              "        vertical-align: middle;\n",
              "    }\n",
              "\n",
              "    .dataframe tbody tr th {\n",
              "        vertical-align: top;\n",
              "    }\n",
              "\n",
              "    .dataframe thead th {\n",
              "        text-align: right;\n",
              "    }\n",
              "</style>\n",
              "<table border=\"1\" class=\"dataframe\">\n",
              "  <thead>\n",
              "    <tr style=\"text-align: right;\">\n",
              "      <th></th>\n",
              "      <th>pid</th>\n",
              "      <th>tid</th>\n",
              "      <th>negatives</th>\n",
              "    </tr>\n",
              "  </thead>\n",
              "  <tbody>\n",
              "    <tr>\n",
              "      <th>0</th>\n",
              "      <td>12148</td>\n",
              "      <td>52790</td>\n",
              "      <td>[89576, 34652, 166523, 74965, 179961, 120204, ...</td>\n",
              "    </tr>\n",
              "    <tr>\n",
              "      <th>1</th>\n",
              "      <td>19584</td>\n",
              "      <td>3065</td>\n",
              "      <td>[171063, 27548, 226717, 235666, 46777, 92661, ...</td>\n",
              "    </tr>\n",
              "    <tr>\n",
              "      <th>2</th>\n",
              "      <td>5347</td>\n",
              "      <td>28372</td>\n",
              "      <td>[123373, 146795, 152598, 162092, 37588, 111716...</td>\n",
              "    </tr>\n",
              "    <tr>\n",
              "      <th>3</th>\n",
              "      <td>1571</td>\n",
              "      <td>12076</td>\n",
              "      <td>[154323, 129562, 205307, 150986, 49469, 171484...</td>\n",
              "    </tr>\n",
              "    <tr>\n",
              "      <th>4</th>\n",
              "      <td>13154</td>\n",
              "      <td>2031</td>\n",
              "      <td>[24655, 178775, 125477, 58145, 184238, 5010, 1...</td>\n",
              "    </tr>\n",
              "  </tbody>\n",
              "</table>\n",
              "</div>\n",
              "      <button class=\"colab-df-convert\" onclick=\"convertToInteractive('df-1332ecde-ac07-4577-889e-9560e7662417')\"\n",
              "              title=\"Convert this dataframe to an interactive table.\"\n",
              "              style=\"display:none;\">\n",
              "        \n",
              "  <svg xmlns=\"http://www.w3.org/2000/svg\" height=\"24px\"viewBox=\"0 0 24 24\"\n",
              "       width=\"24px\">\n",
              "    <path d=\"M0 0h24v24H0V0z\" fill=\"none\"/>\n",
              "    <path d=\"M18.56 5.44l.94 2.06.94-2.06 2.06-.94-2.06-.94-.94-2.06-.94 2.06-2.06.94zm-11 1L8.5 8.5l.94-2.06 2.06-.94-2.06-.94L8.5 2.5l-.94 2.06-2.06.94zm10 10l.94 2.06.94-2.06 2.06-.94-2.06-.94-.94-2.06-.94 2.06-2.06.94z\"/><path d=\"M17.41 7.96l-1.37-1.37c-.4-.4-.92-.59-1.43-.59-.52 0-1.04.2-1.43.59L10.3 9.45l-7.72 7.72c-.78.78-.78 2.05 0 2.83L4 21.41c.39.39.9.59 1.41.59.51 0 1.02-.2 1.41-.59l7.78-7.78 2.81-2.81c.8-.78.8-2.07 0-2.86zM5.41 20L4 18.59l7.72-7.72 1.47 1.35L5.41 20z\"/>\n",
              "  </svg>\n",
              "      </button>\n",
              "      \n",
              "  <style>\n",
              "    .colab-df-container {\n",
              "      display:flex;\n",
              "      flex-wrap:wrap;\n",
              "      gap: 12px;\n",
              "    }\n",
              "\n",
              "    .colab-df-convert {\n",
              "      background-color: #E8F0FE;\n",
              "      border: none;\n",
              "      border-radius: 50%;\n",
              "      cursor: pointer;\n",
              "      display: none;\n",
              "      fill: #1967D2;\n",
              "      height: 32px;\n",
              "      padding: 0 0 0 0;\n",
              "      width: 32px;\n",
              "    }\n",
              "\n",
              "    .colab-df-convert:hover {\n",
              "      background-color: #E2EBFA;\n",
              "      box-shadow: 0px 1px 2px rgba(60, 64, 67, 0.3), 0px 1px 3px 1px rgba(60, 64, 67, 0.15);\n",
              "      fill: #174EA6;\n",
              "    }\n",
              "\n",
              "    [theme=dark] .colab-df-convert {\n",
              "      background-color: #3B4455;\n",
              "      fill: #D2E3FC;\n",
              "    }\n",
              "\n",
              "    [theme=dark] .colab-df-convert:hover {\n",
              "      background-color: #434B5C;\n",
              "      box-shadow: 0px 1px 3px 1px rgba(0, 0, 0, 0.15);\n",
              "      filter: drop-shadow(0px 1px 2px rgba(0, 0, 0, 0.3));\n",
              "      fill: #FFFFFF;\n",
              "    }\n",
              "  </style>\n",
              "\n",
              "      <script>\n",
              "        const buttonEl =\n",
              "          document.querySelector('#df-1332ecde-ac07-4577-889e-9560e7662417 button.colab-df-convert');\n",
              "        buttonEl.style.display =\n",
              "          google.colab.kernel.accessAllowed ? 'block' : 'none';\n",
              "\n",
              "        async function convertToInteractive(key) {\n",
              "          const element = document.querySelector('#df-1332ecde-ac07-4577-889e-9560e7662417');\n",
              "          const dataTable =\n",
              "            await google.colab.kernel.invokeFunction('convertToInteractive',\n",
              "                                                     [key], {});\n",
              "          if (!dataTable) return;\n",
              "\n",
              "          const docLinkHtml = 'Like what you see? Visit the ' +\n",
              "            '<a target=\"_blank\" href=https://colab.research.google.com/notebooks/data_table.ipynb>data table notebook</a>'\n",
              "            + ' to learn more about interactive tables.';\n",
              "          element.innerHTML = '';\n",
              "          dataTable['output_type'] = 'display_data';\n",
              "          await google.colab.output.renderOutput(dataTable, element);\n",
              "          const docLink = document.createElement('div');\n",
              "          docLink.innerHTML = docLinkHtml;\n",
              "          element.appendChild(docLink);\n",
              "        }\n",
              "      </script>\n",
              "    </div>\n",
              "  </div>\n",
              "  "
            ],
            "text/plain": [
              "     pid    tid                                          negatives\n",
              "0  12148  52790  [89576, 34652, 166523, 74965, 179961, 120204, ...\n",
              "1  19584   3065  [171063, 27548, 226717, 235666, 46777, 92661, ...\n",
              "2   5347  28372  [123373, 146795, 152598, 162092, 37588, 111716...\n",
              "3   1571  12076  [154323, 129562, 205307, 150986, 49469, 171484...\n",
              "4  13154   2031  [24655, 178775, 125477, 58145, 184238, 5010, 1..."
            ]
          },
          "execution_count": 10,
          "metadata": {},
          "output_type": "execute_result"
        }
      ],
      "source": [
        "valid_wnegatives.head(5)"
      ]
    },
    {
      "cell_type": "markdown",
      "metadata": {
        "id": "U11AGzNRDMqg"
      },
      "source": [
        "Track Metadata"
      ]
    },
    {
      "cell_type": "code",
      "execution_count": null,
      "metadata": {
        "id": "02g45kCi5oOR"
      },
      "outputs": [],
      "source": [
        "tracks=pd.read_csv('/content/drive/MyDrive/dsc210/project/tracks.csv')\n",
        "tracks_dict=tracks.to_dict()"
      ]
    },
    {
      "cell_type": "markdown",
      "metadata": {
        "id": "DUbQ26bf4jPK"
      },
      "source": [
        "## Necessary Data Structures"
      ]
    },
    {
      "cell_type": "markdown",
      "metadata": {
        "id": "S7E6eUJGD8d3"
      },
      "source": [
        "These are build using the positive samples in the train set"
      ]
    },
    {
      "cell_type": "code",
      "execution_count": null,
      "metadata": {
        "id": "u_UgwNpY3-WJ"
      },
      "outputs": [],
      "source": [
        "# set of all playlists present in the train set\n",
        "train_playlists=set(np.unique(train_positives.pid))\n",
        "# set of all tracks present in the train set\n",
        "train_tracks=set(np.unique(train_positives.tid))\n",
        "# set of all interactions in train set\n",
        "unique_interaction_set=set([(p,t) for p,t in train_positives.values])\n",
        "# dictionary (playlist_id: number of tracks in playlist)\n",
        "tracksInPlaylist=defaultdict(int,train_positives.pid.value_counts().to_dict())"
      ]
    },
    {
      "cell_type": "code",
      "execution_count": null,
      "metadata": {
        "colab": {
          "base_uri": "https://localhost:8080/"
        },
        "id": "R1cQUu3H4oQ4",
        "outputId": "73e439eb-1534-4bc1-d407-c64c42bfa8af"
      },
      "outputs": [
        {
          "name": "stderr",
          "output_type": "stream",
          "text": [
            "100%|██████████| 1061543/1061543 [00:12<00:00, 88222.24it/s]\n"
          ]
        }
      ],
      "source": [
        "# dictionary (playlist: set of tracks in playlist)\n",
        "tracksPerPlaylist=defaultdict(set)\n",
        "# dictionary (track: set of playlist with track)\n",
        "playlistsPerTrack=defaultdict(set)\n",
        "# dictionary (playlist: dictionary (album: number of tracks from album in playlist))\n",
        "artistCountInPlaylist=defaultdict(lambda: defaultdict(int))\n",
        "# dictionary (playlist: dictionary (artist: number of tracks by artist in playlist))\n",
        "albumCountInPlaylist=defaultdict(lambda: defaultdict(int))\n",
        "# set of all tracks in train set\n",
        "allTracks=set()\n",
        "for p,t in tqdm(train_positives[['pid','tid']].values):\n",
        "  tracksPerPlaylist[p].add(t)\n",
        "  playlistsPerTrack[t].add(p)\n",
        "  allTracks.add(t)\n",
        "  artistCountInPlaylist[p][tracks_dict['artist_uri'][t]]+=1\n",
        "  albumCountInPlaylist[p][tracks_dict['album_uri'][t]]+=1"
      ]
    },
    {
      "cell_type": "markdown",
      "metadata": {
        "id": "verarvTXGiV-"
      },
      "source": [
        "## Evaluation Metrics"
      ]
    },
    {
      "cell_type": "code",
      "execution_count": null,
      "metadata": {
        "id": "ihsfhRH3GhBp"
      },
      "outputs": [],
      "source": [
        "# Hit Ratio\n",
        "def getHitRatio(ranklist, gtItem):\n",
        "    for item in ranklist:\n",
        "        if item == gtItem:\n",
        "            return 1\n",
        "    return 0\n",
        "\n",
        "# NDCG\n",
        "def getNDCG(ranklist, gtItem):\n",
        "    for i in range(len(ranklist)):\n",
        "        item = ranklist[i]\n",
        "        if item == gtItem:\n",
        "            return math.log(2) / math.log(i+2)\n",
        "    return 0"
      ]
    },
    {
      "cell_type": "markdown",
      "metadata": {
        "id": "87jq2DScEElp"
      },
      "source": [
        "## NLA Approach: Singular Value Decomposition (SVD)"
      ]
    },
    {
      "cell_type": "markdown",
      "metadata": {
        "id": "vRuh_6BtGD3a"
      },
      "source": [
        "### Setup data for training"
      ]
    },
    {
      "cell_type": "code",
      "execution_count": null,
      "metadata": {
        "id": "LczU-CC1EDr_"
      },
      "outputs": [],
      "source": [
        "reader = Reader(rating_scale=(0, 1))\n",
        "dataSVD = Dataset.load_from_df(train_wnegatives[['pid','tid','label']].sort_values(by='pid'), reader)\n",
        "trainSVD = dataSVD.build_full_trainset()"
      ]
    },
    {
      "cell_type": "markdown",
      "metadata": {
        "id": "q-i7Px_5GIsq"
      },
      "source": [
        "### Fit SVD"
      ]
    },
    {
      "cell_type": "code",
      "execution_count": null,
      "metadata": {
        "colab": {
          "base_uri": "https://localhost:8080/"
        },
        "id": "5WUAziSeFhq4",
        "outputId": "0025d00d-fd99-4bb0-d956-b46e8d4e74b0"
      },
      "outputs": [
        {
          "data": {
            "text/plain": [
              "<surprise.prediction_algorithms.matrix_factorization.SVD at 0x7fe05af0bcd0>"
            ]
          },
          "execution_count": 47,
          "metadata": {},
          "output_type": "execute_result"
        }
      ],
      "source": [
        "svd_model = SVD(n_factors=4, n_epochs=10, biased=False)\n",
        "svd_model.fit(trainSVD)"
      ]
    },
    {
      "cell_type": "markdown",
      "metadata": {
        "id": "JR8sxsgAI1sF"
      },
      "source": [
        "Function to calculate Hit Ratio and NDCG metrics on SVD models"
      ]
    },
    {
      "cell_type": "code",
      "execution_count": null,
      "metadata": {
        "id": "zLMdIRyIGAXE"
      },
      "outputs": [],
      "source": [
        "def evaluate_SVD_model(model,df):\n",
        "  # dictionary to collect metrics over different K\n",
        "  ndcgs_dict=defaultdict(list)\n",
        "  hrs_dict=defaultdict(list)\n",
        "\n",
        "  # list of tracks and playlists in train set with negative samples\n",
        "  set_tracks=np.unique(train_wnegatives.tid)\n",
        "  set_playlists=np.unique(train_wnegatives.pid)\n",
        "\n",
        "  # calculate the performance of the model on validation set\n",
        "  for p,t,neg in tqdm(df.values):\n",
        "    #get prediction scores on all tracks - valid positive sample and negative tracks\n",
        "    t_test=[t]+json.loads(neg)\n",
        "    track_score_map={}\n",
        "    for i in range(len(t_test)):\n",
        "      pred=0\n",
        "      if p in set_playlists and t_test[i] in set_tracks:   \n",
        "        pred=model.predict(uid=trainSVD.to_inner_uid(p),\n",
        "                          iid=trainSVD.to_inner_iid(t_test[i])).est\n",
        "      track_score_map[t_test[i]] = pred\n",
        "    \n",
        "    # calculate evaluation metrics over all K - 1 to 10\n",
        "    for K in range(1,11):\n",
        "      ranklist = heapq.nlargest(K, track_score_map, key=track_score_map.get)\n",
        "      hr = getHitRatio(ranklist, t)\n",
        "      ndcg = getNDCG(ranklist, t)\n",
        "      hrs_dict[K].append(hr)\n",
        "      ndcgs_dict[K].append(ndcg)\n",
        "  \n",
        "  # Take average of the metrics    \n",
        "  for K in range(1,11):\n",
        "    ndcgs_dict[K]=np.array(ndcgs_dict[K]).mean()\n",
        "    hrs_dict[K]=np.array(hrs_dict[K]).mean()\n",
        "  return hrs_dict,ndcgs_dict"
      ]
    },
    {
      "cell_type": "markdown",
      "metadata": {
        "id": "mhWzX37JGOih"
      },
      "source": [
        "### Evaluate the SVD model on validation set"
      ]
    },
    {
      "cell_type": "code",
      "execution_count": null,
      "metadata": {
        "colab": {
          "base_uri": "https://localhost:8080/",
          "height": 624
        },
        "id": "DeOoUJkEJPQe",
        "outputId": "31b707c9-bc59-48da-a7a6-3c80220eae8a"
      },
      "outputs": [
        {
          "name": "stderr",
          "output_type": "stream",
          "text": [
            "100%|██████████| 18714/18714 [00:37<00:00, 494.53it/s]\n"
          ]
        },
        {
          "data": {
            "image/png": "[encoded data removed]",
            "text/plain": [
              "<Figure size 432x288 with 1 Axes>"
            ]
          },
          "metadata": {},
          "output_type": "display_data"
        },
        {
          "data": {
            "image/png": "[encoded data removed]",
            "text/plain": [
              "<Figure size 432x288 with 1 Axes>"
            ]
          },
          "metadata": {},
          "output_type": "display_data"
        },
        {
          "name": "stdout",
          "output_type": "stream",
          "text": [
            "Hit Ratio@10 : 0.9985572298813722\n",
            "NDCG@10 : 0.4403868061855428\n"
          ]
        }
      ],
      "source": [
        "svd_hrs_dict,svd_ndcgs_dict=evaluate_SVD_model(svd_model,valid_wnegatives)\n",
        "\n",
        "sns.lineplot(x=range(1,11),y=svd_hrs_dict.values(),marker='o',color='red')\n",
        "plt.ylim(0,1)\n",
        "plt.xlabel('K')\n",
        "plt.ylabel('Hit Ratio@K')\n",
        "plt.title('Hit Ratio - SVD')\n",
        "plt.show()\n",
        "\n",
        "sns.lineplot(x=range(1,11),y=svd_ndcgs_dict.values(),marker='v')\n",
        "plt.ylim(0,1)\n",
        "plt.xlabel('K')\n",
        "plt.ylabel('NDCG@K')\n",
        "plt.title('NDCG - SVD')\n",
        "plt.show()\n",
        "\n",
        "print(f'Hit Ratio@10 : {svd_hrs_dict[10]}')\n",
        "print(f'NDCG@10 : {svd_ndcgs_dict[10]}')\n",
        "\n",
        "# print(svd_hrs_dict)\n",
        "# print(svd_ndcgs_dict)"
      ]
    },
    {
      "cell_type": "markdown",
      "metadata": {
        "id": "yzL9m6uCKEHi"
      },
      "source": [
        "## SVD with bias terms"
      ]
    },
    {
      "cell_type": "markdown",
      "metadata": {
        "id": "YRRtJ99HKQId"
      },
      "source": [
        "### Fit SVD with bias terms"
      ]
    },
    {
      "cell_type": "code",
      "execution_count": null,
      "metadata": {
        "id": "kRvoeHQ9KXk9"
      },
      "outputs": [],
      "source": [
        "svdb_model = SVD(n_factors=4, n_epochs=10, biased=True)\n",
        "svdb_model.fit(trainSVD)"
      ]
    },
    {
      "cell_type": "markdown",
      "metadata": {
        "id": "Y0wlbvavKYob"
      },
      "source": [
        "### Evaluate SVD with bias terms on validation set"
      ]
    },
    {
      "cell_type": "code",
      "execution_count": null,
      "metadata": {
        "colab": {
          "base_uri": "https://localhost:8080/",
          "height": 624
        },
        "id": "xzOJVLnQKt_n",
        "outputId": "9ea48e4b-2b8c-46be-cdb6-b2b52b15d936"
      },
      "outputs": [
        {
          "name": "stderr",
          "output_type": "stream",
          "text": [
            "100%|██████████| 18714/18714 [00:38<00:00, 482.40it/s]\n"
          ]
        },
        {
          "data": {
            "image/png": "[encoded data removed]",
            "text/plain": [
              "<Figure size 432x288 with 1 Axes>"
            ]
          },
          "metadata": {},
          "output_type": "display_data"
        },
        {
          "data": {
            "image/png": "[encoded data removed]",
            "text/plain": [
              "<Figure size 432x288 with 1 Axes>"
            ]
          },
          "metadata": {},
          "output_type": "display_data"
        },
        {
          "name": "stdout",
          "output_type": "stream",
          "text": [
            "Hit Ratio@10 : 0.8214705568023939\n",
            "NDCG@10 : 0.4822670857965464\n"
          ]
        }
      ],
      "source": [
        "svdb_hrs_dict,svdb_ndcgs_dict=evaluate_SVD_model(svdb_model,valid_wnegatives)\n",
        "\n",
        "sns.lineplot(x=range(1,11),y=svdb_hrs_dict.values(),marker='o',color='red')\n",
        "plt.ylim(0,1)\n",
        "plt.xlabel('K')\n",
        "plt.ylabel('Hit Ratio@K')\n",
        "plt.title('Hit Ratio - SVD with bias terms')\n",
        "plt.show()\n",
        "\n",
        "sns.lineplot(x=range(1,11),y=svdb_ndcgs_dict.values(),marker='v')\n",
        "plt.ylim(0,1)\n",
        "plt.xlabel('K')\n",
        "plt.ylabel('NDCG@K')\n",
        "plt.title('NDCG - SVD with bias terms')\n",
        "plt.show()\n",
        "\n",
        "print(f'Hit Ratio@10 : {svdb_hrs_dict[10]}')\n",
        "print(f'NDCG@10 : {svdb_ndcgs_dict[10]}')\n",
        "\n",
        "# print(svdb_hrs_dict)\n",
        "# print(svdb_ndcgs_dict)"
      ]
    },
    {
      "cell_type": "markdown",
      "metadata": {
        "id": "BfhzUrE96BDJ"
      },
      "source": [
        "## SOTA approach: Neural Collaborative Filtering"
      ]
    },
    {
      "cell_type": "markdown",
      "metadata": {
        "id": "LsLoTwvp52Lq"
      },
      "source": [
        "### NCF Model Inputs and Labels"
      ]
    },
    {
      "cell_type": "code",
      "execution_count": null,
      "metadata": {
        "id": "ambqGgUi51xI"
      },
      "outputs": [],
      "source": [
        "p_input=train_wnegatives.pid.values\n",
        "t_input=train_wnegatives.tid.values\n",
        "m_input=[[album_s,artist_s] for album_s,artist_s in train_wnegatives[['album_share','artist_share']].values]"
      ]
    },
    {
      "cell_type": "code",
      "execution_count": null,
      "metadata": {
        "id": "bpHIrglW8z5f"
      },
      "outputs": [],
      "source": [
        "labels=train_wnegatives.label.values"
      ]
    },
    {
      "cell_type": "markdown",
      "metadata": {
        "id": "dkRBzoCp75U_"
      },
      "source": [
        "### Build NCF model"
      ]
    },
    {
      "cell_type": "code",
      "execution_count": null,
      "metadata": {
        "id": "WdXGP3ly5icZ"
      },
      "outputs": [],
      "source": [
        "# hyperparameters that gave the best result\n",
        "num_factors=4 # number of latent features\n",
        "lr=0.001\n",
        "num_epochs=10\n",
        "batch_size=256"
      ]
    },
    {
      "cell_type": "code",
      "execution_count": null,
      "metadata": {
        "id": "SuWDpUFrN7Il"
      },
      "outputs": [],
      "source": [
        "num_playlists=max(train_playlists)+1\n",
        "num_tracks=max(train_tracks)+1"
      ]
    },
    {
      "cell_type": "code",
      "execution_count": null,
      "metadata": {
        "id": "gXY4pjhT8Eq4"
      },
      "outputs": [],
      "source": [
        "# function that builds the NCF architecture (with input for metadata features)\n",
        "def build_ncf(num_factors):\n",
        "  # Input layers for playlist_id, track_id, and meta_data (album and artist shares)\n",
        "  playlist_input = Input(shape=(1,), dtype='int64', name = 'playlist_input')\n",
        "  track_input = Input(shape=(1,), dtype='int64', name = 'track_input')\n",
        "  meta_input = Input(shape=(2,),name = 'meta_input')\n",
        "\n",
        "  # Embedding layers for playlist latent factors\n",
        "  playlist_embedding=Embedding(input_dim=num_playlists,\n",
        "                            output_dim=num_factors,\n",
        "                            name='playlist_embedding',\n",
        "                            embeddings_initializer=GlorotNormal(),\n",
        "                            embeddings_regularizer=L2(),\n",
        "                            input_length=1\n",
        "                            )\n",
        "  # Embedding layers for track latent factors\n",
        "  track_embedding=Embedding(input_dim=num_tracks,\n",
        "                          output_dim=num_factors,\n",
        "                          name='track_embedding',\n",
        "                          embeddings_initializer=GlorotNormal(),\n",
        "                          embeddings_regularizer=L2(),\n",
        "                          input_length=1\n",
        "                          )\n",
        "  \n",
        "  # Flatten the Embeddings\n",
        "  playlist_factors=Flatten(name='flatten_playlist_embedding')(playlist_embedding(playlist_input))\n",
        "  track_factors=Flatten(name='flatten_track_embedding')(track_embedding(track_input))\n",
        "\n",
        "  # Concatenate playlist and track latent factors with metadata (album share, artist share)\n",
        "  vector=Concatenate(name='concat_inputs')([playlist_factors,track_factors,meta_input])\n",
        "\n",
        "  # Multi-Layer Perceptron with 3 hidden layers of 16,8,and 4 units\n",
        "  # Each layer involves L2 regularlization and with ReLU activation\n",
        "  layer1=Dense(16,\n",
        "              kernel_regularizer=L2(),\n",
        "              activation='relu',\n",
        "              name='layer1'\n",
        "              )(vector)\n",
        "  layer2=Dense(8,\n",
        "              kernel_regularizer=L2(),\n",
        "              activation='relu',\n",
        "              name='layer2'\n",
        "              )(layer1)\n",
        "  layer3=Dense(4,\n",
        "              kernel_regularizer=L2(),\n",
        "              activation='relu',\n",
        "              name='layer3'\n",
        "              )(layer2)\n",
        "\n",
        "  # The final output layer whose weights are initialized from a uniform distribution\n",
        "  # with sigmoid activation function as this is a binary classification problem\n",
        "  prediction=Dense(1,\n",
        "              kernel_initializer=LecunUniform(),\n",
        "              activation='sigmoid',\n",
        "              name='prediction'\n",
        "              )(layer3)\n",
        "\n",
        "  return Model(inputs=[playlist_input,track_input,meta_input],\n",
        "              outputs=prediction)\n",
        "  "
      ]
    },
    {
      "cell_type": "markdown",
      "metadata": {
        "id": "auTA5Fl2Qkbx"
      },
      "source": [
        "Visiualize the model architecture "
      ]
    },
    {
      "cell_type": "code",
      "execution_count": null,
      "metadata": {
        "colab": {
          "base_uri": "https://localhost:8080/",
          "height": 758
        },
        "id": "hiNu7ofb8b1B",
        "outputId": "6f221d3c-3b52-4f5a-c813-93ccec09e1dc"
      },
      "outputs": [
        {
          "data": {
            "image/png": "[encoded data removed]",
            "text/plain": [
              "<IPython.core.display.Image object>"
            ]
          },
          "execution_count": 53,
          "metadata": {},
          "output_type": "execute_result"
        }
      ],
      "source": [
        "from keras.utils import plot_model\n",
        "model=build_ncf(num_factors)\n",
        "plot_model(model)"
      ]
    },
    {
      "cell_type": "markdown",
      "metadata": {
        "id": "DNdrDILh9bOG"
      },
      "source": [
        "### Function to evaluate NCF model"
      ]
    },
    {
      "cell_type": "code",
      "execution_count": null,
      "metadata": {
        "id": "6gK_cRx29pgM"
      },
      "outputs": [],
      "source": [
        "def evaluate_NCF_model(model,df):\n",
        "  # dictionary to collect metrics over different K\n",
        "  ndcgs_dict=defaultdict(list)\n",
        "  hrs_dict=defaultdict(list)\n",
        "\n",
        "  # list of tracks and playlists in train set with negative samples\n",
        "  set_tracks=np.unique(train_wnegatives.tid)\n",
        "  set_playlists=np.unique(train_wnegatives.pid)\n",
        "\n",
        "  # calculate the performance of the model on validation set\n",
        "  for p,t,neg in tqdm(df.values):\n",
        "    #get prediction scores on all tracks - valid positive sample and negative tracks\n",
        "    p_test=[p for i in range(11)]\n",
        "    t_test=[t]+json.loads(neg)\n",
        "    m_test=[[albumCountInPlaylist[p_test[i]][tracks_dict['album_uri'][t_test[i]]]/tracksInPlaylist[p_test[i]],\n",
        "            artistCountInPlaylist[p_test[i]][tracks_dict['artist_uri'][t_test[i]]]/tracksInPlaylist[p_test[i]]] for i in range(len(p_test))]\n",
        "    pred=model.predict([np.array(p_test),\n",
        "                        np.array(t_test),\n",
        "                        np.array(m_test)], verbose=0)\n",
        "    track_score_map={}\n",
        "    for i in range(len(t_test)):\n",
        "      track_score_map[t_test[i]] = pred[i]\n",
        "    \n",
        "    # calculate evaluation metrics over all K - 1 to 10\n",
        "    for K in range(1,11):\n",
        "      ranklist = heapq.nlargest(K, track_score_map, key=track_score_map.get)\n",
        "      hr = getHitRatio(ranklist, t)\n",
        "      ndcg = getNDCG(ranklist, t)\n",
        "      hrs_dict[K].append(hr)\n",
        "      ndcgs_dict[K].append(ndcg)\n",
        "      \n",
        "  # Take average of the metrics    \n",
        "  for K in range(1,11):\n",
        "    ndcgs_dict[K]=np.array(ndcgs_dict[K]).mean()\n",
        "    hrs_dict[K]=np.array(hrs_dict[K]).mean()\n",
        "  return hrs_dict,ndcgs_dict"
      ]
    },
    {
      "cell_type": "markdown",
      "metadata": {
        "id": "AcvyvYY48vKo"
      },
      "source": [
        "### Training"
      ]
    },
    {
      "cell_type": "markdown",
      "source": [
        "This takes a while."
      ],
      "metadata": {
        "id": "jopiScgL-fOo"
      }
    },
    {
      "cell_type": "code",
      "execution_count": null,
      "metadata": {
        "colab": {
          "base_uri": "https://localhost:8080/"
        },
        "id": "lC1ed_JH_vEm",
        "outputId": "4c1bf52e-a420-48b2-a136-d94debd6433d"
      },
      "outputs": [
        {
          "name": "stdout",
          "output_type": "stream",
          "text": [
            "Epoch 1/10\n",
            "8294/8294 [==============================] - 106s 13ms/step - loss: 1.0580\n",
            "Epoch 2/10\n",
            "8294/8294 [==============================] - 109s 13ms/step - loss: 0.9554\n",
            "Epoch 3/10\n",
            "8294/8294 [==============================] - 102s 12ms/step - loss: 0.8822\n",
            "Epoch 4/10\n",
            "8294/8294 [==============================] - 104s 13ms/step - loss: 0.8296\n",
            "Epoch 5/10\n",
            "8294/8294 [==============================] - 101s 12ms/step - loss: 0.7918\n",
            "Epoch 6/10\n",
            "8294/8294 [==============================] - 103s 12ms/step - loss: 0.7646\n",
            "Epoch 7/10\n",
            "8294/8294 [==============================] - 102s 12ms/step - loss: 0.7450\n",
            "Epoch 8/10\n",
            "8294/8294 [==============================] - 103s 12ms/step - loss: 0.7307\n",
            "Epoch 9/10\n",
            "8294/8294 [==============================] - 100s 12ms/step - loss: 0.7204\n",
            "Epoch 10/10\n",
            "8294/8294 [==============================] - 103s 12ms/step - loss: 0.7129\n"
          ]
        }
      ],
      "source": [
        "ncf_model=build_ncf(num_factors=4)\n",
        "\n",
        "# compile the model\n",
        "# Stochastic Gradient Descent with Binary Cross Entropy for loss function\n",
        "ncf_model.compile(optimizer=SGD(learning_rate=lr),\n",
        "              loss=BinaryCrossentropy())\n",
        "# train the model\n",
        "history=ncf_model.fit(x=[np.array(p_input),np.array(t_input),np.array(m_input)],\n",
        "                  y=np.array(labels),\n",
        "                  batch_size=batch_size,\n",
        "                  epochs=num_epochs,\n",
        "                  shuffle=True,\n",
        "                  verbose=1\n",
        "                  )"
      ]
    },
    {
      "cell_type": "markdown",
      "metadata": {
        "id": "Xq4D4BaLTUoA"
      },
      "source": [
        "Plot loss over epochs"
      ]
    },
    {
      "cell_type": "code",
      "execution_count": null,
      "metadata": {
        "colab": {
          "base_uri": "https://localhost:8080/",
          "height": 279
        },
        "id": "l6GHYBxiTIv4",
        "outputId": "4fca3f54-c39b-41a4-c17f-f2a86dcea5bb"
      },
      "outputs": [
        {
          "data": {
            "image/png": "[encoded data removed]",
            "text/plain": [
              "<Figure size 432x288 with 1 Axes>"
            ]
          },
          "metadata": {},
          "output_type": "display_data"
        }
      ],
      "source": [
        "sns.lineplot(x=range(1,num_epochs+1),y=history.history['loss'])\n",
        "plt.ylabel('Binary Cross Entropy')\n",
        "plt.xlabel('Epoch')\n",
        "plt.show()"
      ]
    },
    {
      "cell_type": "markdown",
      "metadata": {
        "id": "dJ8LTlZQTW5l"
      },
      "source": [
        "### Evaluate NCF model"
      ]
    },
    {
      "cell_type": "markdown",
      "source": [
        "This takes about 20 minutes."
      ],
      "metadata": {
        "id": "6JpFlRx7-hsI"
      }
    },
    {
      "cell_type": "code",
      "execution_count": 70,
      "metadata": {
        "colab": {
          "base_uri": "https://localhost:8080/",
          "height": 624
        },
        "id": "ale6CVeISxgY",
        "outputId": "7803a1e5-9d13-4e99-80e2-fcb06abf6ad1"
      },
      "outputs": [
        {
          "output_type": "stream",
          "name": "stderr",
          "text": [
            "100%|██████████| 18714/18714 [19:35<00:00, 15.92it/s]\n"
          ]
        },
        {
          "output_type": "display_data",
          "data": {
            "text/plain": [
              "<Figure size 432x288 with 1 Axes>"
            ],
            "image/png": "[encoded data removed]"
          },
          "metadata": {
            "needs_background": "light"
          }
        },
        {
          "output_type": "display_data",
          "data": {
            "text/plain": [
              "<Figure size 432x288 with 1 Axes>"
            ],
            "image/png": "[encoded data removed]"
          },
          "metadata": {
            "needs_background": "light"
          }
        },
        {
          "output_type": "stream",
          "name": "stdout",
          "text": [
            "Hit Ratio@10 : 0.958961205514588\n",
            "NDCG@10 : 0.7059826851131721\n"
          ]
        }
      ],
      "source": [
        "ncf_hrs_dict,ncf_ndcgs_dict=evaluate_NCF_model(ncf_model,valid_wnegatives)\n",
        "\n",
        "sns.lineplot(x=range(1,11),y=ncf_hrs_dict.values(),marker='o',color='red')\n",
        "plt.ylim(0,1)\n",
        "plt.xlabel('K')\n",
        "plt.ylabel('Hit Ratio@K')\n",
        "plt.title('Hit Ratio - NCF')\n",
        "plt.show()\n",
        "\n",
        "sns.lineplot(x=range(1,11),y=ncf_ndcgs_dict.values(),marker='v')\n",
        "plt.ylim(0,1)\n",
        "plt.xlabel('K')\n",
        "plt.ylabel('NDCG@K')\n",
        "plt.title('NDCG - NCF')\n",
        "plt.show()\n",
        "\n",
        "print(f'Hit Ratio@10 : {ncf_hrs_dict[10]}')\n",
        "print(f'NDCG@10 : {ncf_ndcgs_dict[10]}')\n",
        "\n",
        "# print(ncf_hrs_dict)\n",
        "# print(ncf_ndcgs_dict)"
      ]
    },
    {
      "cell_type": "markdown",
      "metadata": {
        "id": "jynICTVWTdVD"
      },
      "source": [
        "## Evaluating all models over test set"
      ]
    },
    {
      "cell_type": "code",
      "execution_count": null,
      "metadata": {
        "id": "pXd0LWTsUByW"
      },
      "outputs": [],
      "source": [
        "ncf_hrs_dict,ncf_ndcgs_dict=evaluate_NCF_model(ncf_model,test_wnegatives)\n",
        "svd_hrs_dict,svd_ndcgs_dict=evaluate_SVD_model(svd_model,test_wnegatives)\n",
        "svdb_hrs_dict,svdb_ndcgs_dict=evaluate_SVD_model(svdb_model,test_wnegatives)"
      ]
    },
    {
      "cell_type": "code",
      "execution_count": 68,
      "metadata": {
        "id": "OKxlSp6JYMKU",
        "colab": {
          "base_uri": "https://localhost:8080/",
          "height": 295
        },
        "outputId": "66f62022-baca-4828-d79c-2110824ff1e7"
      },
      "outputs": [
        {
          "output_type": "display_data",
          "data": {
            "text/plain": [
              "<Figure size 432x288 with 1 Axes>"
            ],
            "image/png": "[encoded data removed]"
          },
          "metadata": {
            "needs_background": "light"
          }
        }
      ],
      "source": [
        "sns.lineplot(x=range(1,11),y=svdb_hrs_dict.values(),marker='o',color='red',label='SVD with bias')\n",
        "sns.lineplot(x=range(1,11),y=svd_hrs_dict.values(),marker='o',color='blue',label='SVD')\n",
        "sns.lineplot(x=range(1,11),y=ncf_hrs_dict.values(),marker='o',color='green', label='NCF')\n",
        "plt.xlabel('K')\n",
        "plt.ylabel('Hit Ratio@K')\n",
        "plt.title('Hit Ratio@K on Test Set')\n",
        "plt.show()"
      ]
    },
    {
      "cell_type": "code",
      "execution_count": 69,
      "metadata": {
        "colab": {
          "base_uri": "https://localhost:8080/",
          "height": 295
        },
        "id": "ebl9K54SSqL8",
        "outputId": "ca3834a6-91bb-45ab-b0bd-033516bbda3d"
      },
      "outputs": [
        {
          "output_type": "display_data",
          "data": {
            "text/plain": [
              "<Figure size 432x288 with 1 Axes>"
            ],
            "image/png": "[encoded data removed]"
          },
          "metadata": {
            "needs_background": "light"
          }
        }
      ],
      "source": [
        "sns.lineplot(x=range(1,11),y=svdb_ndcgs_dict.values(),marker='o',color='red',label='SVD with bias')\n",
        "sns.lineplot(x=range(1,11),y=svd_ndcgs_dict.values(),marker='o',color='blue',label='SVD')\n",
        "sns.lineplot(x=range(1,11),y=ncf_ndcgs_dict.values(),marker='o',color='green', label='NCF')\n",
        "plt.xlabel('K')\n",
        "plt.ylabel('NDCG@K')\n",
        "plt.title('NDCG@K on Test Set')\n",
        "plt.show()"
      ]
    },
    {
      "cell_type": "code",
      "source": [],
      "metadata": {
        "id": "Sv7vUSvfvMjS"
      },
      "execution_count": null,
      "outputs": []
    }
  ],
  "metadata": {
    "colab": {
      "provenance": [],
      "mount_file_id": "17pk0jju5FQjS9NB2B3JbJoIOseu-qFc6",
      "authorship_tag": "ABX9TyP41cVKiI1I3/Y6dMQwn54V",
      "include_colab_link": true
    },
    "kernelspec": {
      "display_name": "Python 3",
      "name": "python3"
    },
    "language_info": {
      "name": "python"
    }
  },
  "nbformat": 4,
  "nbformat_minor": 0
}