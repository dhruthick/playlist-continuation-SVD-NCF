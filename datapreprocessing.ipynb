{
  "nbformat": 4,
  "nbformat_minor": 0,
  "metadata": {
    "colab": {
      "provenance": [],
      "mount_file_id": "1kTEDTZ7V0v2_aXOv4yraEFR-9GNhqO2u",
      "authorship_tag": "ABX9TyPQcgfX/lJw01+56ndhhhB4",
      "include_colab_link": true
    },
    "kernelspec": {
      "name": "python3",
      "display_name": "Python 3"
    },
    "language_info": {
      "name": "python"
    }
  },
  "cells": [
    {
      "cell_type": "markdown",
      "metadata": {
        "id": "view-in-github",
        "colab_type": "text"
      },
      "source": [
        "<a href=\"https://colab.research.google.com/github/Kitwradr/Project-Automatic-playlist-continuation/blob/main/datapreprocessing.ipynb\" target=\"_parent\"><img src=\"https://colab.research.google.com/assets/colab-badge.svg\" alt=\"Open In Colab\"/></a>"
      ]
    },
    {
      "cell_type": "markdown",
      "source": [
        "# Data Preprocessing"
      ],
      "metadata": {
        "id": "JCEvPnovov4P"
      }
    },
    {
      "cell_type": "markdown",
      "source": [
        "## Imports"
      ],
      "metadata": {
        "id": "irmbj-wThSvy"
      }
    },
    {
      "cell_type": "code",
      "execution_count": 1,
      "metadata": {
        "id": "UTBv5BfmhIgu"
      },
      "outputs": [],
      "source": [
        "import pandas as pd\n",
        "import numpy as np\n",
        "\n",
        "from collections import defaultdict\n",
        "from tqdm import tqdm\n",
        "import random\n",
        "\n",
        "from sklearn.model_selection import train_test_split"
      ]
    },
    {
      "cell_type": "markdown",
      "source": [
        "## Reading the necessary data files"
      ],
      "metadata": {
        "id": "WnO-QlHfhk0U"
      }
    },
    {
      "cell_type": "markdown",
      "source": [
        "**If you are running the following cells, please make sure the paths to the data files are correct.**"
      ],
      "metadata": {
        "id": "FjQP30-t3HyR"
      }
    },
    {
      "cell_type": "markdown",
      "source": [
        "Interaction data"
      ],
      "metadata": {
        "id": "wgTz1GNEhowC"
      }
    },
    {
      "cell_type": "code",
      "source": [
        "interactions=pd.read_csv('/content/drive/MyDrive/dsc210/project/interactions.csv')\n",
        "# our work is done on 2% of the data (about 1.3 million interactions)\n",
        "interactions=interactions.loc[:0.02*interactions.shape[0]].drop(['position'],axis=1)"
      ],
      "metadata": {
        "id": "HXx22GFqhRWq"
      },
      "execution_count": 4,
      "outputs": []
    },
    {
      "cell_type": "markdown",
      "source": [
        "Tracks Metadata"
      ],
      "metadata": {
        "id": "7haXYPIViVkg"
      }
    },
    {
      "cell_type": "code",
      "source": [
        "tracks=pd.read_csv('/content/drive/MyDrive/dsc210/project/tracks.csv')\n",
        "tracks_dict=tracks.to_dict()"
      ],
      "metadata": {
        "id": "5viL4JQIiTlt"
      },
      "execution_count": 10,
      "outputs": []
    },
    {
      "cell_type": "code",
      "source": [
        "print(f'Number of interactions: {interactions.shape[0]}')\n",
        "print(f'Number of playlists: {len(np.unique(interactions.pid))}')\n",
        "print(f'Number of tracks: {len(np.unique(interactions.tid))}')"
      ],
      "metadata": {
        "colab": {
          "base_uri": "https://localhost:8080/"
        },
        "id": "k2wTvsrWh4_P",
        "outputId": "f6188695-f55c-4607-94a3-d88d96c57244"
      },
      "execution_count": 6,
      "outputs": [
        {
          "output_type": "stream",
          "name": "stdout",
          "text": [
            "Number of interactions: 1326929\n",
            "Number of playlists: 19904\n",
            "Number of tracks: 262338\n"
          ]
        }
      ]
    },
    {
      "cell_type": "markdown",
      "source": [
        "## Data Split"
      ],
      "metadata": {
        "id": "Yhc6DPajiCAX"
      }
    },
    {
      "cell_type": "code",
      "source": [
        "# train, validation and test split in 8:1:1 ratio\n",
        "train, test = train_test_split(interactions,test_size=0.2)\n",
        "valid, test = train_test_split(test,test_size=0.5)"
      ],
      "metadata": {
        "id": "0LzaZNteiBkN"
      },
      "execution_count": 7,
      "outputs": []
    },
    {
      "cell_type": "markdown",
      "source": [
        "## Necessary Data Structures"
      ],
      "metadata": {
        "id": "6DY2PxY_ijoq"
      }
    },
    {
      "cell_type": "code",
      "source": [
        "# set of all playlists present in the train set\n",
        "train_playlists=set(np.unique(train.pid))\n",
        "# set of all tracks present in the train set\n",
        "train_tracks=set(np.unique(train.tid))\n",
        "# set of all interactions in train set\n",
        "unique_interaction_set=set([(p,t) for p,t in train.values])\n",
        "# dictionary (playlist_id: number of tracks in playlist)\n",
        "tracksInPlaylist=defaultdict(int,train.pid.value_counts().to_dict())"
      ],
      "metadata": {
        "id": "M5lgxI9rijYF"
      },
      "execution_count": 11,
      "outputs": []
    },
    {
      "cell_type": "code",
      "source": [
        "# dictionary (playlist: set of tracks in playlist)\n",
        "tracksPerPlaylist=defaultdict(set)\n",
        "# dictionary (track: set of playlist with track)\n",
        "playlistsPerTrack=defaultdict(set)\n",
        "# dictionary (playlist: dictionary (album: number of tracks from album in playlist))\n",
        "artistCountInPlaylist=defaultdict(lambda: defaultdict(int))\n",
        "# dictionary (playlist: dictionary (artist: number of tracks by artist in playlist))\n",
        "albumCountInPlaylist=defaultdict(lambda: defaultdict(int))\n",
        "# set of all tracks in train set\n",
        "allTracks=set()\n",
        "for p,t in tqdm(train[['pid','tid']].values):\n",
        "  tracksPerPlaylist[p].add(t)\n",
        "  playlistsPerTrack[t].add(p)\n",
        "  allTracks.add(t)\n",
        "  artistCountInPlaylist[p][tracks_dict['artist_uri'][t]]+=1\n",
        "  albumCountInPlaylist[p][tracks_dict['album_uri'][t]]+=1"
      ],
      "metadata": {
        "colab": {
          "base_uri": "https://localhost:8080/"
        },
        "id": "OXozox7ih8qA",
        "outputId": "5d189495-45e1-4329-fc4b-71ff2f211f73"
      },
      "execution_count": 12,
      "outputs": [
        {
          "output_type": "stream",
          "name": "stderr",
          "text": [
            "100%|██████████| 1061543/1061543 [00:11<00:00, 89952.74it/s]\n"
          ]
        }
      ]
    },
    {
      "cell_type": "markdown",
      "source": [
        "## Generating negative samples for train set"
      ],
      "metadata": {
        "id": "OjXLDZ6xkQ81"
      }
    },
    {
      "cell_type": "markdown",
      "source": [
        "For each sample in train set we generate one negative sample (a playlist-track pair where the track is not in the playlist)\n",
        "\n",
        "A label of 1 is given for a positive sample and 0 for a negative sample.\n",
        "\n",
        "It takes about 70 minutes to generate all the samples.\n",
        "The generated data is saved for later."
      ],
      "metadata": {
        "id": "yfTPOEBGkW6Z"
      }
    },
    {
      "cell_type": "code",
      "source": [
        "negatives_per_sample=1\n",
        "# playlist ids, track ids, meta data - [album_share, artist_share], labels\n",
        "p_input,t_input,m_input,labels=[],[],[],[]\n",
        "for p,t in tqdm(train.values):\n",
        "  p_input.append(p)\n",
        "  t_input.append(t)\n",
        "  m_input.append([albumCountInPlaylist[p][tracks_dict['album_uri'][t]]/tracksInPlaylist[p],\n",
        "                  artistCountInPlaylist[p][tracks_dict['artist_uri'][t]]/tracksInPlaylist[p]])\n",
        "  labels.append(1)\n",
        "  for i in range(negatives_per_sample):\n",
        "    rand_t=random.sample(train_tracks,1)[0]\n",
        "    while (p,rand_t) in unique_interaction_set:\n",
        "      rand_t=random.sample(train_tracks,1)[0]\n",
        "    p_input.append(p)\n",
        "    t_input.append(rand_t)\n",
        "    m_input.append([albumCountInPlaylist[p][tracks_dict['album_uri'][rand_t]]/tracksInPlaylist[p],\n",
        "                    artistCountInPlaylist[p][tracks_dict['artist_uri'][rand_t]]/tracksInPlaylist[p]])\n",
        "    labels.append(0)"
      ],
      "metadata": {
        "colab": {
          "base_uri": "https://localhost:8080/"
        },
        "id": "vuR_2rTykKh4",
        "outputId": "05fcc515-e277-4248-c2f2-862fcbe659a3"
      },
      "execution_count": 13,
      "outputs": [
        {
          "output_type": "stream",
          "name": "stderr",
          "text": [
            "100%|██████████| 1061543/1061543 [1:11:22<00:00, 247.89it/s]\n"
          ]
        }
      ]
    },
    {
      "cell_type": "code",
      "source": [
        "# saving the data\n",
        "pd.DataFrame({\n",
        "    'pid':p_input,\n",
        "    'tid':t_input,\n",
        "    'label':labels,\n",
        "    'album-artist share': m_input\n",
        "}).to_csv('/content/drive/MyDrive/dsc210/project/train_with_negative.csv',index=False)"
      ],
      "metadata": {
        "id": "As0mCaDokkYD"
      },
      "execution_count": 14,
      "outputs": []
    },
    {
      "cell_type": "markdown",
      "source": [
        "## Preparing the validation and test sets for evaluation"
      ],
      "metadata": {
        "id": "WIfL91CUmMpV"
      }
    },
    {
      "cell_type": "markdown",
      "source": [
        "We will be evaluating one interaction for each playlist, i.e. one track per playlist to reduce the evaluation time."
      ],
      "metadata": {
        "id": "Z3BQRE0xmThV"
      }
    },
    {
      "cell_type": "code",
      "source": [
        "valid=valid.drop_duplicates(subset=['pid']).copy()\n",
        "test=test.drop_duplicates(subset=['pid']).copy()"
      ],
      "metadata": {
        "id": "z4-mqpqWlTqd"
      },
      "execution_count": 15,
      "outputs": []
    },
    {
      "cell_type": "markdown",
      "source": [
        "For each playlist-track pair in the validation set we sample 10 tracks that we know are not present in the playlist. \n",
        "The models trained will be evaluated based on where it ranks the positive track among the 11 tracks for a given playlist."
      ],
      "metadata": {
        "id": "eiTAkU-mmmkv"
      }
    },
    {
      "cell_type": "code",
      "source": [
        "neg_valid=[]\n",
        "for p,t in tqdm(valid.values):\n",
        "  negs=[]\n",
        "  for i in range(10):\n",
        "    rand_t=random.sample(train_tracks,1)[0]\n",
        "    while (p,rand_t) in unique_interaction_set and rand_t not in negs:\n",
        "      rand_t=random.sample(train_tracks,1)[0]\n",
        "    negs.append(rand_t)\n",
        "  neg_valid.append(negs)"
      ],
      "metadata": {
        "colab": {
          "base_uri": "https://localhost:8080/"
        },
        "id": "JIlj7v0rmm-X",
        "outputId": "db1f0851-fb16-4ace-a9b6-c29d9f01c771"
      },
      "execution_count": 16,
      "outputs": [
        {
          "output_type": "stream",
          "name": "stderr",
          "text": [
            "100%|██████████| 18714/18714 [11:18<00:00, 27.58it/s]\n"
          ]
        }
      ]
    },
    {
      "cell_type": "code",
      "source": [
        "# saving the validation set for later use\n",
        "valid['negatives']=neg_valid\n",
        "valid.to_csv('/content/drive/MyDrive/dsc210/project/valid_negatives.csv',index=False)"
      ],
      "metadata": {
        "id": "qwKaGpyAnJ4Z"
      },
      "execution_count": 22,
      "outputs": []
    },
    {
      "cell_type": "markdown",
      "source": [
        "We do the same process on test set."
      ],
      "metadata": {
        "id": "XjHirwVknUXi"
      }
    },
    {
      "cell_type": "code",
      "source": [
        "neg_test=[]\n",
        "for p,t in tqdm(test.values):\n",
        "  negs=[]\n",
        "  for i in range(10):\n",
        "    rand_t=random.sample(train_tracks,1)[0]\n",
        "    while (p,rand_t) in unique_interaction_set and rand_t not in negs:\n",
        "      rand_t=random.sample(train_tracks,1)[0]\n",
        "    negs.append(rand_t)\n",
        "  neg_test.append(negs)"
      ],
      "metadata": {
        "colab": {
          "base_uri": "https://localhost:8080/"
        },
        "id": "gPGimrvTnTSF",
        "outputId": "a8f379dc-3a76-402d-b778-ff9faa64d5fd"
      },
      "execution_count": 18,
      "outputs": [
        {
          "output_type": "stream",
          "name": "stderr",
          "text": [
            "100%|██████████| 18704/18704 [10:37<00:00, 29.34it/s]\n"
          ]
        }
      ]
    },
    {
      "cell_type": "code",
      "source": [
        "# saving the test set for later use\n",
        "test['negatives']=neg_test\n",
        "test.to_csv('/content/drive/MyDrive/dsc210/project/test_negatives.csv',index=False)"
      ],
      "metadata": {
        "id": "e1LTtcvnnzNY"
      },
      "execution_count": 23,
      "outputs": []
    },
    {
      "cell_type": "code",
      "source": [],
      "metadata": {
        "id": "j5RDs_cOArh2"
      },
      "execution_count": null,
      "outputs": []
    }
  ]
}